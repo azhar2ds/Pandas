{
 "cells": [
  {
   "cell_type": "markdown",
   "metadata": {},
   "source": [
    "# Pandas Exercise workbook"
   ]
  },
  {
   "cell_type": "code",
   "execution_count": null,
   "metadata": {},
   "outputs": [],
   "source": [
    "import numpy as np\n",
    "import pandas as pd\n",
    "import pandas_profiling as pp\n",
    "import matplotlib as plt"
   ]
  },
  {
   "cell_type": "markdown",
   "metadata": {},
   "source": [
    "###### 1) creating dictionary of different fruits purchased by customers.######"
   ]
  },
  {
   "cell_type": "code",
   "execution_count": null,
   "metadata": {},
   "outputs": [],
   "source": [
    "fruits={\n",
    "    'apple': [3,2,0,1],\n",
    "    'banana': [1,5,2,7],\n",
    "    'orange': [0,3,7,2],\n",
    "    'mangoes': [1,2,3,5]\n",
    "}"
   ]
  },
  {
   "cell_type": "markdown",
   "metadata": {},
   "source": [
    "###### 2) creating pandas dataframe from a given dictionary######"
   ]
  },
  {
   "cell_type": "code",
   "execution_count": null,
   "metadata": {},
   "outputs": [],
   "source": [
    "dataset=pd.DataFrame(fruits)\n",
    "print(dataset)\n",
    "# the first row is default index column which can altered with our own values and details are given in cell below."
   ]
  },
  {
   "cell_type": "markdown",
   "metadata": {},
   "source": [
    "###### 3) Altering index value ######"
   ]
  },
  {
   "cell_type": "code",
   "execution_count": null,
   "metadata": {},
   "outputs": [],
   "source": [
    "dataset=pd.DataFrame(fruits, index=[1,2,3,4]) # here index values begins with 1.\n",
    "dataset"
   ]
  },
  {
   "cell_type": "markdown",
   "metadata": {},
   "source": [
    "###### 4) Reading csv file from pandas dataframe ######"
   ]
  },
  {
   "cell_type": "code",
   "execution_count": null,
   "metadata": {},
   "outputs": [],
   "source": [
    "mydata=pd.read_csv('C:/Users/Azhar/Desktop/income.csv')\n",
    "mydata.head()"
   ]
  },
  {
   "cell_type": "markdown",
   "metadata": {},
   "source": [
    "###### 5) Reading data from excel ######"
   ]
  },
  {
   "cell_type": "code",
   "execution_count": null,
   "metadata": {},
   "outputs": [],
   "source": [
    "excelfile=pd.read_excel('E:/Data Set/Excel/cars.xls')\n",
    "excelfile.head()"
   ]
  },
  {
   "cell_type": "markdown",
   "metadata": {},
   "source": [
    "###### 6) Reading data from JSON ######"
   ]
  },
  {
   "cell_type": "code",
   "execution_count": null,
   "metadata": {},
   "outputs": [],
   "source": [
    "myjsonfile=pd.read_json('C:/Users/Azhar/Downloads/unece.json')\n",
    "#myjsonfile.describe\n",
    "#print(np.shape(myjsonfile))\n",
    "myjsonfile.head()"
   ]
  },
  {
   "cell_type": "markdown",
   "metadata": {},
   "source": [
    "###### 7) Dropping the first default index ######"
   ]
  },
  {
   "cell_type": "code",
   "execution_count": null,
   "metadata": {},
   "outputs": [],
   "source": [
    "mydata=pd.read_csv('C:/Users/Azhar/Desktop/income.csv')\n",
    "mydata.head()"
   ]
  },
  {
   "cell_type": "markdown",
   "metadata": {},
   "source": [
    "###### 8) importing csvfile from github in pandas dataframe ######"
   ]
  },
  {
   "cell_type": "markdown",
   "metadata": {},
   "source": [
    "####### ParserError: Error tokenizing data. C error: #######"
   ]
  },
  {
   "cell_type": "code",
   "execution_count": null,
   "metadata": {},
   "outputs": [],
   "source": [
    "# we shouldn't simply copy the github url but firstly we have to open the csv file in github.\n",
    "# then we should see 3 options at the top right side of dataset (RAW, BLAME, HISTORY)\n",
    "# We should click on raw and then copy the url. \n",
    "\n",
    "url=\"https://raw.githubusercontent.com/azhar2ds/DataSets/master/imp.csv\"\n",
    "mydata=pd.read_csv(url, index_col=0)\n",
    "mydata.head()"
   ]
  },
  {
   "cell_type": "markdown",
   "metadata": {},
   "source": [
    "###### 9) importing csv file from S3 AWS ######"
   ]
  },
  {
   "cell_type": "code",
   "execution_count": null,
   "metadata": {},
   "outputs": [],
   "source": [
    "AWS_dataset = pd.read_csv(\"https://s3-ap-southeast-1.amazonaws.com/av-datahack-datacamp/train.csv\")\n",
    "print(AWS_dataset)"
   ]
  },
  {
   "cell_type": "markdown",
   "metadata": {},
   "source": [
    "###### 10) Finding the observation with help of index #######"
   ]
  },
  {
   "cell_type": "code",
   "execution_count": null,
   "metadata": {},
   "outputs": [],
   "source": [
    "dataset.loc[2]"
   ]
  },
  {
   "cell_type": "code",
   "execution_count": null,
   "metadata": {},
   "outputs": [],
   "source": [
    "mydata.loc[0]"
   ]
  },
  {
   "cell_type": "markdown",
   "metadata": {},
   "source": [
    "###### 11) importing csv file from google docs ######"
   ]
  },
  {
   "cell_type": "code",
   "execution_count": null,
   "metadata": {},
   "outputs": [],
   "source": [
    "####### Steps ######\n",
    "# login and open docs\n",
    "# right click on particular csv file\n",
    "# open with google sheet\n",
    "# in url we have to replace Replace “edit#gid” with “export?format=csv&gid”\n",
    "# then copy the url and paste it in pandas dateframe url."
   ]
  },
  {
   "cell_type": "code",
   "execution_count": null,
   "metadata": {},
   "outputs": [],
   "source": [
    "#url='docs.google.com/spreadsheets/d/1CE4B6UhCxnndikPSwueK-YIax65q1_mTcpItFZaUEEQ/export?format=csv&gid=725623959'\n",
    "mydata=pd.read_csv(url)\n",
    "mydata.head()\n"
   ]
  },
  {
   "cell_type": "markdown",
   "metadata": {},
   "source": [
    "###### 12) importing csv zipfile from kaggle ######"
   ]
  },
  {
   "cell_type": "code",
   "execution_count": null,
   "metadata": {},
   "outputs": [],
   "source": []
  },
  {
   "cell_type": "markdown",
   "metadata": {},
   "source": [
    "###### 13) Reading data from a SQL database ######"
   ]
  },
  {
   "cell_type": "code",
   "execution_count": null,
   "metadata": {},
   "outputs": [],
   "source": [
    "!pip install pypyodbc"
   ]
  },
  {
   "cell_type": "code",
   "execution_count": null,
   "metadata": {},
   "outputs": [],
   "source": [
    "import pypyodbc as podbc\n",
    "#conn = podbc.connect(\"Driver={SQL Server};Server=<YourServer>;Database=<YourDatabase>;uid=<YourUserName>;pwd=<YourPassword>\"\n",
    "conn = podbc.connect(\"Driver={SQL Server};Server=sql;Database=Oracle;uid=azhar;pwd=redhat\")\n",
    "cursor = conn.cursor()\n",
    "sql = \"SELECT * FROM emp\"\n",
    "cursor.execute(sql)\n",
    "data = cursor.fetchone()\n",
    "while data:\n",
    "    print(str(data[0]) + \", \" + ... + \", \" + str(data[n-1]))\n",
    "    data = cursor.fetchone()\n",
    "conn.close()"
   ]
  },
  {
   "cell_type": "markdown",
   "metadata": {},
   "source": [
    "###### 14) Converting pandas dataframe back to a CSV, XLS & JSON ######"
   ]
  },
  {
   "cell_type": "code",
   "execution_count": null,
   "metadata": {},
   "outputs": [],
   "source": [
    "mydata.to_json('jsonfile.json') #converting to json format\n"
   ]
  },
  {
   "cell_type": "code",
   "execution_count": null,
   "metadata": {},
   "outputs": [],
   "source": [
    "myjsonfile.to_csv('csvfile.csv, index=False')  #converting to csv format"
   ]
  },
  {
   "cell_type": "code",
   "execution_count": null,
   "metadata": {},
   "outputs": [],
   "source": [
    "myjsonfile.to_excel('excel_file.xls', sheet_name='first', header=False, index=0) #converting to excel format\n",
    "# we can avoid column names by declaring HEADER = 'False'\n"
   ]
  },
  {
   "cell_type": "markdown",
   "metadata": {},
   "source": [
    "###### 15)  Creating multiple sheets in one excel file need [ExcelWriter object] ######"
   ]
  },
  {
   "cell_type": "code",
   "execution_count": null,
   "metadata": {},
   "outputs": [],
   "source": [
    "xolfile=pd.read_excel('E:/Data Set/Excel/beer.xls')\n"
   ]
  },
  {
   "cell_type": "code",
   "execution_count": null,
   "metadata": {},
   "outputs": [],
   "source": [
    "with pd.ExcelWriter('xolfile.xls') as writer:  \n",
    "    xolfile.to_excel(writer, sheet_name='one')\n",
    "    xolfile.to_excel(writer, sheet_name='two')\n",
    "    xolfile.to_excel(writer, sheet_name='three')\n",
    "    xolfile.to_excel(writer, sheet_name='four')\n",
    "xolfile.head()\n",
    "#We do not require [EXCELWRITER] bject if we are creating one sheet in an excel file"
   ]
  },
  {
   "cell_type": "markdown",
   "metadata": {},
   "source": [
    "###### 16)  Making any columns as first defualt column] ######"
   ]
  },
  {
   "cell_type": "code",
   "execution_count": null,
   "metadata": {
    "scrolled": true
   },
   "outputs": [],
   "source": [
    "val=pd.read_excel('E:/Data Set/Excel/andy.xls', index_col='ADVERTISMENT')\n",
    "val.head()"
   ]
  },
  {
   "cell_type": "code",
   "execution_count": null,
   "metadata": {},
   "outputs": [],
   "source": [
    "mydata=pd.read_csv('C:/Users/Azhar/Data Zone Projects/Daily Notes/income.csv', index_col='grade')\n",
    "mydata.head()"
   ]
  },
  {
   "cell_type": "markdown",
   "metadata": {},
   "source": [
    "###### 17) Getting info, describe,shape about your data######"
   ]
  },
  {
   "cell_type": "code",
   "execution_count": null,
   "metadata": {},
   "outputs": [],
   "source": [
    "mydata.head()\n",
    "mydata.info\n",
    "mydata.describe\n",
    "mydata.shape"
   ]
  },
  {
   "cell_type": "markdown",
   "metadata": {},
   "source": [
    "###### 18) Duplicating the dataframe with same dataframe inorder to find duplicates######"
   ]
  },
  {
   "cell_type": "code",
   "execution_count": null,
   "metadata": {},
   "outputs": [],
   "source": [
    "temp_df = mydata.append(mydata)"
   ]
  },
  {
   "cell_type": "code",
   "execution_count": null,
   "metadata": {},
   "outputs": [],
   "source": [
    "mydata.shape"
   ]
  },
  {
   "cell_type": "code",
   "execution_count": null,
   "metadata": {},
   "outputs": [],
   "source": [
    "temp_df.shape"
   ]
  },
  {
   "cell_type": "markdown",
   "metadata": {},
   "source": [
    "###### 19) Dropping duplicate values ######"
   ]
  },
  {
   "cell_type": "code",
   "execution_count": null,
   "metadata": {},
   "outputs": [],
   "source": [
    "temp_df.shape"
   ]
  },
  {
   "cell_type": "code",
   "execution_count": null,
   "metadata": {},
   "outputs": [],
   "source": [
    "temp=temp_df.drop_duplicates() #dropping duplicates & assigning it to some temp variable"
   ]
  },
  {
   "cell_type": "code",
   "execution_count": null,
   "metadata": {},
   "outputs": [],
   "source": [
    "temp.shape"
   ]
  },
  {
   "cell_type": "code",
   "execution_count": null,
   "metadata": {},
   "outputs": [],
   "source": [
    "temp_df.shape"
   ]
  },
  {
   "cell_type": "markdown",
   "metadata": {},
   "source": [
    "###### 20) Dropping duplicate values with different attributes ######"
   ]
  },
  {
   "cell_type": "code",
   "execution_count": null,
   "metadata": {},
   "outputs": [],
   "source": [
    "temp_df2 = mydata.append(mydata)"
   ]
  },
  {
   "cell_type": "code",
   "execution_count": null,
   "metadata": {},
   "outputs": [],
   "source": [
    "temp_df2.shape # here we are deleting the duplicates but we are not assigning it to any variable"
   ]
  },
  {
   "cell_type": "code",
   "execution_count": null,
   "metadata": {},
   "outputs": [],
   "source": [
    "temp_df2.drop_duplicates(inplace=True) # with the help of \"inplace\" keyword we dont need to assign it any variable"
   ]
  },
  {
   "cell_type": "code",
   "execution_count": null,
   "metadata": {},
   "outputs": [],
   "source": [
    "temp_df2.shape"
   ]
  },
  {
   "cell_type": "markdown",
   "metadata": {},
   "source": [
    "###### 21) Dropping duplicate values with different attributes ######"
   ]
  },
  {
   "cell_type": "code",
   "execution_count": null,
   "metadata": {},
   "outputs": [],
   "source": [
    "'''Another important argument for drop_duplicates() is KEEP which has three possible options:\n",
    "\n",
    "1) first: (default) Drop duplicates except for the first occurrence.\n",
    "2) last: Drop duplicates except for the last occurrence.\n",
    "3) False: Drop all duplicates.'''"
   ]
  },
  {
   "cell_type": "code",
   "execution_count": null,
   "metadata": {},
   "outputs": [],
   "source": [
    "temp_df.drop_duplicates(inplace=True, keep=first)\n",
    "temp_df.drop_duplicates(inplace=True, keep=last)\n",
    "temp_df.drop_duplicates(inplace=True, keep=False)"
   ]
  },
  {
   "cell_type": "code",
   "execution_count": null,
   "metadata": {},
   "outputs": [],
   "source": []
  },
  {
   "cell_type": "markdown",
   "metadata": {},
   "source": [
    "                                                                                                  Author: azhar\n",
    "                                                                                                    ID:azhar2ds@gmail.com"
   ]
  },
  {
   "cell_type": "code",
   "execution_count": null,
   "metadata": {},
   "outputs": [],
   "source": []
  }
 ],
 "metadata": {
  "kernelspec": {
   "display_name": "Python 3",
   "language": "python",
   "name": "python3"
  },
  "language_info": {
   "codemirror_mode": {
    "name": "ipython",
    "version": 3
   },
   "file_extension": ".py",
   "mimetype": "text/x-python",
   "name": "python",
   "nbconvert_exporter": "python",
   "pygments_lexer": "ipython3",
   "version": "3.7.3"
  }
 },
 "nbformat": 4,
 "nbformat_minor": 2
}
